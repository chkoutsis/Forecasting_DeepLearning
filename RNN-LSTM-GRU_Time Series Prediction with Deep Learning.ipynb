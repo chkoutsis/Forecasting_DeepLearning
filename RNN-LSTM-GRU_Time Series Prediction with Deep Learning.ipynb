{
 "cells": [
  {
   "cell_type": "markdown",
   "id": "b4182343",
   "metadata": {},
   "source": [
    "# 0. Install and Import Dependencies"
   ]
  },
  {
   "cell_type": "code",
   "execution_count": 1,
   "id": "f709aa20",
   "metadata": {},
   "outputs": [],
   "source": [
    "import pandas as pd\n",
    "import matplotlib.pyplot as plt\n",
    "import numpy as np\n",
    "from tensorflow.keras.preprocessing.sequence import TimeseriesGenerator\n",
    "from tensorflow.keras.models import Sequential\n",
    "from tensorflow.keras.layers import Dense ,SimpleRNN, LSTM, GRU\n",
    "from tensorflow.keras.callbacks import EarlyStopping, ModelCheckpoint"
   ]
  },
  {
   "cell_type": "markdown",
   "id": "358ea0fb",
   "metadata": {},
   "source": [
    "# 1. Data Analysis"
   ]
  },
  {
   "cell_type": "code",
   "execution_count": 5,
   "id": "0dbe452e",
   "metadata": {},
   "outputs": [
    {
     "data": {
      "text/html": [
       "<div>\n",
       "<style scoped>\n",
       "    .dataframe tbody tr th:only-of-type {\n",
       "        vertical-align: middle;\n",
       "    }\n",
       "\n",
       "    .dataframe tbody tr th {\n",
       "        vertical-align: top;\n",
       "    }\n",
       "\n",
       "    .dataframe thead th {\n",
       "        text-align: right;\n",
       "    }\n",
       "</style>\n",
       "<table border=\"1\" class=\"dataframe\">\n",
       "  <thead>\n",
       "    <tr style=\"text-align: right;\">\n",
       "      <th></th>\n",
       "      <th>DATE</th>\n",
       "      <th>Value</th>\n",
       "    </tr>\n",
       "  </thead>\n",
       "  <tbody>\n",
       "    <tr>\n",
       "      <th>0</th>\n",
       "      <td>01-01-1985</td>\n",
       "      <td>72.5052</td>\n",
       "    </tr>\n",
       "    <tr>\n",
       "      <th>1</th>\n",
       "      <td>02-01-1985</td>\n",
       "      <td>70.6720</td>\n",
       "    </tr>\n",
       "    <tr>\n",
       "      <th>2</th>\n",
       "      <td>03-01-1985</td>\n",
       "      <td>62.4502</td>\n",
       "    </tr>\n",
       "    <tr>\n",
       "      <th>3</th>\n",
       "      <td>04-01-1985</td>\n",
       "      <td>57.4714</td>\n",
       "    </tr>\n",
       "    <tr>\n",
       "      <th>4</th>\n",
       "      <td>05-01-1985</td>\n",
       "      <td>55.3151</td>\n",
       "    </tr>\n",
       "    <tr>\n",
       "      <th>...</th>\n",
       "      <td>...</td>\n",
       "      <td>...</td>\n",
       "    </tr>\n",
       "    <tr>\n",
       "      <th>392</th>\n",
       "      <td>09-01-2017</td>\n",
       "      <td>98.6154</td>\n",
       "    </tr>\n",
       "    <tr>\n",
       "      <th>393</th>\n",
       "      <td>10-01-2017</td>\n",
       "      <td>93.6137</td>\n",
       "    </tr>\n",
       "    <tr>\n",
       "      <th>394</th>\n",
       "      <td>11-01-2017</td>\n",
       "      <td>97.3359</td>\n",
       "    </tr>\n",
       "    <tr>\n",
       "      <th>395</th>\n",
       "      <td>12-01-2017</td>\n",
       "      <td>114.7212</td>\n",
       "    </tr>\n",
       "    <tr>\n",
       "      <th>396</th>\n",
       "      <td>01-01-2018</td>\n",
       "      <td>129.4048</td>\n",
       "    </tr>\n",
       "  </tbody>\n",
       "</table>\n",
       "<p>397 rows × 2 columns</p>\n",
       "</div>"
      ],
      "text/plain": [
       "           DATE     Value\n",
       "0    01-01-1985   72.5052\n",
       "1    02-01-1985   70.6720\n",
       "2    03-01-1985   62.4502\n",
       "3    04-01-1985   57.4714\n",
       "4    05-01-1985   55.3151\n",
       "..          ...       ...\n",
       "392  09-01-2017   98.6154\n",
       "393  10-01-2017   93.6137\n",
       "394  11-01-2017   97.3359\n",
       "395  12-01-2017  114.7212\n",
       "396  01-01-2018  129.4048\n",
       "\n",
       "[397 rows x 2 columns]"
      ]
     },
     "execution_count": 5,
     "metadata": {},
     "output_type": "execute_result"
    }
   ],
   "source": [
    "df = pd.read_csv(\"Electric_Production.csv\")\n",
    "df"
   ]
  },
  {
   "cell_type": "code",
   "execution_count": 6,
   "id": "015e164e",
   "metadata": {},
   "outputs": [
    {
     "data": {
      "text/html": [
       "<div>\n",
       "<style scoped>\n",
       "    .dataframe tbody tr th:only-of-type {\n",
       "        vertical-align: middle;\n",
       "    }\n",
       "\n",
       "    .dataframe tbody tr th {\n",
       "        vertical-align: top;\n",
       "    }\n",
       "\n",
       "    .dataframe thead th {\n",
       "        text-align: right;\n",
       "    }\n",
       "</style>\n",
       "<table border=\"1\" class=\"dataframe\">\n",
       "  <thead>\n",
       "    <tr style=\"text-align: right;\">\n",
       "      <th></th>\n",
       "      <th>Value</th>\n",
       "    </tr>\n",
       "    <tr>\n",
       "      <th>DATE</th>\n",
       "      <th></th>\n",
       "    </tr>\n",
       "  </thead>\n",
       "  <tbody>\n",
       "    <tr>\n",
       "      <th>1985-01-01</th>\n",
       "      <td>72.5052</td>\n",
       "    </tr>\n",
       "    <tr>\n",
       "      <th>1985-01-02</th>\n",
       "      <td>70.6720</td>\n",
       "    </tr>\n",
       "    <tr>\n",
       "      <th>1985-01-03</th>\n",
       "      <td>62.4502</td>\n",
       "    </tr>\n",
       "    <tr>\n",
       "      <th>1985-01-04</th>\n",
       "      <td>57.4714</td>\n",
       "    </tr>\n",
       "    <tr>\n",
       "      <th>1985-01-05</th>\n",
       "      <td>55.3151</td>\n",
       "    </tr>\n",
       "    <tr>\n",
       "      <th>...</th>\n",
       "      <td>...</td>\n",
       "    </tr>\n",
       "    <tr>\n",
       "      <th>2017-01-09</th>\n",
       "      <td>98.6154</td>\n",
       "    </tr>\n",
       "    <tr>\n",
       "      <th>2017-01-10</th>\n",
       "      <td>93.6137</td>\n",
       "    </tr>\n",
       "    <tr>\n",
       "      <th>2017-01-11</th>\n",
       "      <td>97.3359</td>\n",
       "    </tr>\n",
       "    <tr>\n",
       "      <th>2017-01-12</th>\n",
       "      <td>114.7212</td>\n",
       "    </tr>\n",
       "    <tr>\n",
       "      <th>2018-01-01</th>\n",
       "      <td>129.4048</td>\n",
       "    </tr>\n",
       "  </tbody>\n",
       "</table>\n",
       "<p>397 rows × 1 columns</p>\n",
       "</div>"
      ],
      "text/plain": [
       "               Value\n",
       "DATE                \n",
       "1985-01-01   72.5052\n",
       "1985-01-02   70.6720\n",
       "1985-01-03   62.4502\n",
       "1985-01-04   57.4714\n",
       "1985-01-05   55.3151\n",
       "...              ...\n",
       "2017-01-09   98.6154\n",
       "2017-01-10   93.6137\n",
       "2017-01-11   97.3359\n",
       "2017-01-12  114.7212\n",
       "2018-01-01  129.4048\n",
       "\n",
       "[397 rows x 1 columns]"
      ]
     },
     "execution_count": 6,
     "metadata": {},
     "output_type": "execute_result"
    }
   ],
   "source": [
    "df = df.set_index(\"DATE\")\n",
    "df.index = pd.to_datetime(df.index, format='%d-%m-%Y')\n",
    "# df = df.groupby(pd.Grouper(freq='m')).mean()\n",
    "df"
   ]
  },
  {
   "cell_type": "code",
   "execution_count": 7,
   "id": "05014f1c",
   "metadata": {},
   "outputs": [
    {
     "name": "stdout",
     "output_type": "stream",
     "text": [
      "Number of measurements: 397\n"
     ]
    },
    {
     "data": {
      "image/png": "[encoded data removed]",
      "text/plain": [
       "<Figure size 432x288 with 1 Axes>"
      ]
     },
     "metadata": {
      "needs_background": "light"
     },
     "output_type": "display_data"
    }
   ],
   "source": [
    "print(\"Number of measurements: \"+str(len(df['Value'])))\n",
    "df.plot(y='Value', rot=25);"
   ]
  },
  {
   "cell_type": "code",
   "execution_count": 11,
   "id": "3ef5cd6a",
   "metadata": {},
   "outputs": [
    {
     "data": {
      "image/png": "[encoded data removed]",
      "text/plain": [
       "<Figure size 432x288 with 1 Axes>"
      ]
     },
     "metadata": {
      "needs_background": "light"
     },
     "output_type": "display_data"
    }
   ],
   "source": [
    "# Spliting the last 2 years for test\n",
    "\n",
    "train = dftm[:12*27].values\n",
    "plt.plot(np.arange(len(train)),train)\n",
    "train = train.reshape((len(train), 1))\n",
    "test = dftm[12*27:].values\n",
    "plt.plot(np.arange(len(train), len(train)+len(test)),test)\n",
    "test = test.reshape((len(test), 1))"
   ]
  },
  {
   "cell_type": "code",
   "execution_count": 12,
   "id": "baabf54a",
   "metadata": {},
   "outputs": [],
   "source": [
    "length = 12\n",
    "generator = TimeseriesGenerator(train,train,length=length, batch_size=1)\n",
    "validation_generator = TimeseriesGenerator(test,test,length=length, batch_size=1)"
   ]
  },
  {
   "cell_type": "code",
   "execution_count": 13,
   "id": "ffa3749b",
   "metadata": {},
   "outputs": [
    {
     "name": "stdout",
     "output_type": "stream",
     "text": [
      "[[72.5052]\n",
      " [70.672 ]\n",
      " [62.4502]\n",
      " [57.4714]\n",
      " [55.3151]\n",
      " [58.0904]\n",
      " [62.6202]\n",
      " [63.2485]\n",
      " [60.5846]\n",
      " [56.3154]\n",
      " [58.0005]\n",
      " [68.7145]\n",
      " [73.3057]]\n"
     ]
    }
   ],
   "source": [
    "print(train[:length+1])"
   ]
  },
  {
   "cell_type": "code",
   "execution_count": 14,
   "id": "a18ea2bc",
   "metadata": {
    "scrolled": true
   },
   "outputs": [
    {
     "name": "stdout",
     "output_type": "stream",
     "text": [
      "[[[72.5052]\n",
      "  [70.672 ]\n",
      "  [62.4502]\n",
      "  [57.4714]\n",
      "  [55.3151]\n",
      "  [58.0904]\n",
      "  [62.6202]\n",
      "  [63.2485]\n",
      "  [60.5846]\n",
      "  [56.3154]\n",
      "  [58.0005]\n",
      "  [68.7145]]]\n",
      "[[73.3057]]\n",
      "[[[70.672 ]\n",
      "  [62.4502]\n",
      "  [57.4714]\n",
      "  [55.3151]\n",
      "  [58.0904]\n",
      "  [62.6202]\n",
      "  [63.2485]\n",
      "  [60.5846]\n",
      "  [56.3154]\n",
      "  [58.0005]\n",
      "  [68.7145]\n",
      "  [73.3057]]]\n",
      "[[67.9869]]\n"
     ]
    }
   ],
   "source": [
    "# Looking some TimeSeriesGenerator results\n",
    "i=0\n",
    "for x,y in generator:\n",
    "    print(x)\n",
    "    print(y)\n",
    "    i = i + 1\n",
    "    if i == 2:\n",
    "        break"
   ]
  },
  {
   "cell_type": "markdown",
   "id": "7d09f789",
   "metadata": {},
   "source": [
    "# 2. RNN Model"
   ]
  },
  {
   "cell_type": "code",
   "execution_count": 17,
   "id": "4afc26bc",
   "metadata": {},
   "outputs": [
    {
     "name": "stdout",
     "output_type": "stream",
     "text": [
      "Model: \"sequential_1\"\n",
      "_________________________________________________________________\n",
      "Layer (type)                 Output Shape              Param #   \n",
      "=================================================================\n",
      "simple_rnn_1 (SimpleRNN)     (None, 10)                120       \n",
      "_________________________________________________________________\n",
      "dense_1 (Dense)              (None, 1)                 11        \n",
      "=================================================================\n",
      "Total params: 131\n",
      "Trainable params: 131\n",
      "Non-trainable params: 0\n",
      "_________________________________________________________________\n"
     ]
    }
   ],
   "source": [
    "model = Sequential()\n",
    "model.add(SimpleRNN(10, activation='relu', input_shape=(length,1)))\n",
    "model.add(Dense(1))\n",
    "model.compile(optimizer='adam', loss='mse')\n",
    "model.summary()"
   ]
  },
  {
   "cell_type": "code",
   "execution_count": 18,
   "id": "a1a717b2",
   "metadata": {
    "scrolled": true
   },
   "outputs": [
    {
     "name": "stderr",
     "output_type": "stream",
     "text": [
      "C:\\Users\\xaris\\anaconda3\\lib\\site-packages\\tensorflow\\python\\keras\\engine\\training.py:1844: UserWarning: `Model.fit_generator` is deprecated and will be removed in a future version. Please use `Model.fit`, which supports generators.\n",
      "  warnings.warn('`Model.fit_generator` is deprecated and '\n"
     ]
    },
    {
     "name": "stdout",
     "output_type": "stream",
     "text": [
      "Epoch 1/100\n",
      "312/312 [==============================] - 2s 4ms/step - loss: 1757.1706 - val_loss: 99.5005\n",
      "\n",
      "Epoch 00001: val_loss improved from inf to 99.50049, saving model to model6.hdf5\n",
      "Epoch 2/100\n",
      "312/312 [==============================] - 1s 4ms/step - loss: 62.1748 - val_loss: 112.1379\n",
      "\n",
      "Epoch 00002: val_loss did not improve from 99.50049\n",
      "Epoch 3/100\n",
      "312/312 [==============================] - 1s 3ms/step - loss: 48.1730 - val_loss: 63.8377\n",
      "\n",
      "Epoch 00003: val_loss improved from 99.50049 to 63.83769, saving model to model6.hdf5\n",
      "Epoch 4/100\n",
      "312/312 [==============================] - 1s 3ms/step - loss: 36.3696 - val_loss: 48.8108\n",
      "\n",
      "Epoch 00004: val_loss improved from 63.83769 to 48.81077, saving model to model6.hdf5\n",
      "Epoch 5/100\n",
      "312/312 [==============================] - 1s 3ms/step - loss: 29.8766 - val_loss: 42.1663\n",
      "\n",
      "Epoch 00005: val_loss improved from 48.81077 to 42.16628, saving model to model6.hdf5\n",
      "Epoch 6/100\n",
      "312/312 [==============================] - 1s 4ms/step - loss: 28.7876 - val_loss: 30.6833\n",
      "\n",
      "Epoch 00006: val_loss improved from 42.16628 to 30.68333, saving model to model6.hdf5\n",
      "Epoch 7/100\n",
      "312/312 [==============================] - 1s 4ms/step - loss: 19.2081 - val_loss: 33.7835\n",
      "\n",
      "Epoch 00007: val_loss did not improve from 30.68333\n",
      "Epoch 8/100\n",
      "312/312 [==============================] - 1s 5ms/step - loss: 17.8621 - val_loss: 25.3504\n",
      "\n",
      "Epoch 00008: val_loss improved from 30.68333 to 25.35040, saving model to model6.hdf5\n",
      "Epoch 9/100\n",
      "312/312 [==============================] - 1s 3ms/step - loss: 17.3035 - val_loss: 28.7840\n",
      "\n",
      "Epoch 00009: val_loss did not improve from 25.35040\n",
      "Epoch 10/100\n",
      "312/312 [==============================] - 1s 3ms/step - loss: 14.5994 - val_loss: 24.7418\n",
      "\n",
      "Epoch 00010: val_loss improved from 25.35040 to 24.74178, saving model to model6.hdf5\n",
      "Epoch 11/100\n",
      "312/312 [==============================] - 1s 3ms/step - loss: 14.7067 - val_loss: 30.6208\n",
      "\n",
      "Epoch 00011: val_loss did not improve from 24.74178\n",
      "Epoch 12/100\n",
      "312/312 [==============================] - 2s 5ms/step - loss: 16.4424 - val_loss: 25.8632\n",
      "\n",
      "Epoch 00012: val_loss did not improve from 24.74178\n",
      "Epoch 13/100\n",
      "312/312 [==============================] - 1s 4ms/step - loss: 17.1889 - val_loss: 22.8512\n",
      "\n",
      "Epoch 00013: val_loss improved from 24.74178 to 22.85125, saving model to model6.hdf5\n",
      "Epoch 14/100\n",
      "312/312 [==============================] - 1s 4ms/step - loss: 14.6036 - val_loss: 25.9026\n",
      "\n",
      "Epoch 00014: val_loss did not improve from 22.85125\n",
      "Epoch 15/100\n",
      "312/312 [==============================] - 1s 4ms/step - loss: 14.2614 - val_loss: 24.6720\n",
      "\n",
      "Epoch 00015: val_loss did not improve from 22.85125\n",
      "Epoch 16/100\n",
      "312/312 [==============================] - 1s 4ms/step - loss: 14.0505 - val_loss: 32.4536\n",
      "\n",
      "Epoch 00016: val_loss did not improve from 22.85125\n",
      "Epoch 17/100\n",
      "312/312 [==============================] - 1s 4ms/step - loss: 19.4166 - val_loss: 31.7864\n",
      "\n",
      "Epoch 00017: val_loss did not improve from 22.85125\n",
      "Epoch 18/100\n",
      "312/312 [==============================] - 1s 4ms/step - loss: 18.4423 - val_loss: 63.1540\n",
      "\n",
      "Epoch 00018: val_loss did not improve from 22.85125\n",
      "Epoch 19/100\n",
      "312/312 [==============================] - 1s 5ms/step - loss: 19.4268 - val_loss: 39.0226\n",
      "\n",
      "Epoch 00019: val_loss did not improve from 22.85125\n",
      "Epoch 20/100\n",
      "312/312 [==============================] - 1s 4ms/step - loss: 15.5678 - val_loss: 22.9076\n",
      "\n",
      "Epoch 00020: val_loss did not improve from 22.85125\n",
      "Epoch 21/100\n",
      "312/312 [==============================] - 1s 4ms/step - loss: 12.4355 - val_loss: 20.8542\n",
      "\n",
      "Epoch 00021: val_loss improved from 22.85125 to 20.85416, saving model to model6.hdf5\n",
      "Epoch 22/100\n",
      "312/312 [==============================] - 1s 4ms/step - loss: 13.2728 - val_loss: 20.8484\n",
      "\n",
      "Epoch 00022: val_loss improved from 20.85416 to 20.84840, saving model to model6.hdf5\n",
      "Epoch 23/100\n",
      "312/312 [==============================] - 1s 3ms/step - loss: 18.6737 - val_loss: 23.3384\n",
      "\n",
      "Epoch 00023: val_loss did not improve from 20.84840\n",
      "Epoch 24/100\n",
      "312/312 [==============================] - 1s 3ms/step - loss: 15.0147 - val_loss: 34.0457\n",
      "\n",
      "Epoch 00024: val_loss did not improve from 20.84840\n",
      "Epoch 25/100\n",
      "312/312 [==============================] - 1s 4ms/step - loss: 16.2953 - val_loss: 27.6037\n",
      "\n",
      "Epoch 00025: val_loss did not improve from 20.84840\n",
      "Epoch 26/100\n",
      "312/312 [==============================] - 1s 4ms/step - loss: 11.8484 - val_loss: 20.6888\n",
      "\n",
      "Epoch 00026: val_loss improved from 20.84840 to 20.68879, saving model to model6.hdf5\n",
      "Epoch 27/100\n",
      "312/312 [==============================] - 1s 4ms/step - loss: 11.3036 - val_loss: 38.3809\n",
      "\n",
      "Epoch 00027: val_loss did not improve from 20.68879\n",
      "Epoch 28/100\n",
      "312/312 [==============================] - 1s 3ms/step - loss: 14.6945 - val_loss: 24.1503\n",
      "\n",
      "Epoch 00028: val_loss did not improve from 20.68879\n",
      "Epoch 29/100\n",
      "312/312 [==============================] - 1s 4ms/step - loss: 13.4257 - val_loss: 22.5424\n",
      "\n",
      "Epoch 00029: val_loss did not improve from 20.68879\n",
      "Epoch 30/100\n",
      "312/312 [==============================] - 1s 4ms/step - loss: 13.1142 - val_loss: 24.1269\n",
      "\n",
      "Epoch 00030: val_loss did not improve from 20.68879\n",
      "Epoch 31/100\n",
      "312/312 [==============================] - 1s 3ms/step - loss: 14.9957 - val_loss: 19.9612\n",
      "\n",
      "Epoch 00031: val_loss improved from 20.68879 to 19.96123, saving model to model6.hdf5\n",
      "Epoch 32/100\n",
      "312/312 [==============================] - 1s 3ms/step - loss: 13.5466 - val_loss: 38.1598\n",
      "\n",
      "Epoch 00032: val_loss did not improve from 19.96123\n",
      "Epoch 33/100\n",
      "312/312 [==============================] - 1s 4ms/step - loss: 15.1889 - val_loss: 23.7781\n",
      "\n",
      "Epoch 00033: val_loss did not improve from 19.96123\n",
      "Epoch 34/100\n",
      "312/312 [==============================] - 1s 4ms/step - loss: 10.2940 - val_loss: 24.3342\n",
      "\n",
      "Epoch 00034: val_loss did not improve from 19.96123\n",
      "Epoch 35/100\n",
      "312/312 [==============================] - 1s 4ms/step - loss: 17.0427 - val_loss: 27.5618\n",
      "\n",
      "Epoch 00035: val_loss did not improve from 19.96123\n",
      "Epoch 36/100\n",
      "312/312 [==============================] - 1s 3ms/step - loss: 12.8189 - val_loss: 19.1269\n",
      "\n",
      "Epoch 00036: val_loss improved from 19.96123 to 19.12692, saving model to model6.hdf5\n",
      "Epoch 37/100\n",
      "312/312 [==============================] - 1s 4ms/step - loss: 15.4327 - val_loss: 23.0897\n",
      "\n",
      "Epoch 00037: val_loss did not improve from 19.12692\n",
      "Epoch 38/100\n",
      "312/312 [==============================] - 1s 4ms/step - loss: 9.8671 - val_loss: 19.2908\n",
      "\n",
      "Epoch 00038: val_loss did not improve from 19.12692\n",
      "Epoch 39/100\n",
      "312/312 [==============================] - 1s 3ms/step - loss: 12.2838 - val_loss: 26.6604\n",
      "\n",
      "Epoch 00039: val_loss did not improve from 19.12692\n",
      "Epoch 40/100\n",
      "312/312 [==============================] - 1s 3ms/step - loss: 11.6715 - val_loss: 17.8552\n",
      "\n",
      "Epoch 00040: val_loss improved from 19.12692 to 17.85516, saving model to model6.hdf5\n",
      "Epoch 41/100\n",
      "312/312 [==============================] - 1s 4ms/step - loss: 12.4678 - val_loss: 24.0687\n",
      "\n",
      "Epoch 00041: val_loss did not improve from 17.85516\n",
      "Epoch 42/100\n",
      "312/312 [==============================] - 1s 4ms/step - loss: 10.5990 - val_loss: 29.9026\n",
      "\n",
      "Epoch 00042: val_loss did not improve from 17.85516\n",
      "Epoch 43/100\n",
      "312/312 [==============================] - 1s 4ms/step - loss: 8.4199 - val_loss: 19.1147\n",
      "\n",
      "Epoch 00043: val_loss did not improve from 17.85516\n",
      "Epoch 44/100\n",
      "312/312 [==============================] - 1s 3ms/step - loss: 11.9394 - val_loss: 24.4510\n",
      "\n",
      "Epoch 00044: val_loss did not improve from 17.85516\n",
      "Epoch 45/100\n",
      "312/312 [==============================] - 1s 3ms/step - loss: 10.1249 - val_loss: 34.0159\n",
      "\n",
      "Epoch 00045: val_loss did not improve from 17.85516\n",
      "Epoch 46/100\n",
      "312/312 [==============================] - 1s 4ms/step - loss: 12.5303 - val_loss: 18.6714\n",
      "\n",
      "Epoch 00046: val_loss did not improve from 17.85516\n",
      "Epoch 47/100\n",
      "312/312 [==============================] - 1s 3ms/step - loss: 12.9546 - val_loss: 17.3582\n",
      "\n",
      "Epoch 00047: val_loss improved from 17.85516 to 17.35824, saving model to model6.hdf5\n",
      "Epoch 48/100\n",
      "312/312 [==============================] - 1s 4ms/step - loss: 10.7896 - val_loss: 20.0380\n",
      "\n",
      "Epoch 00048: val_loss did not improve from 17.35824\n",
      "Epoch 49/100\n",
      "312/312 [==============================] - 1s 5ms/step - loss: 10.7822 - val_loss: 17.8901\n",
      "\n",
      "Epoch 00049: val_loss did not improve from 17.35824\n",
      "Epoch 50/100\n"
     ]
    },
    {
     "name": "stdout",
     "output_type": "stream",
     "text": [
      "312/312 [==============================] - 1s 4ms/step - loss: 11.0056 - val_loss: 33.9395\n",
      "\n",
      "Epoch 00050: val_loss did not improve from 17.35824\n",
      "Epoch 51/100\n",
      "312/312 [==============================] - 1s 3ms/step - loss: 10.9237 - val_loss: 21.3957\n",
      "\n",
      "Epoch 00051: val_loss did not improve from 17.35824\n",
      "Epoch 52/100\n",
      "312/312 [==============================] - 1s 4ms/step - loss: 10.6980 - val_loss: 17.1174\n",
      "\n",
      "Epoch 00052: val_loss improved from 17.35824 to 17.11736, saving model to model6.hdf5\n",
      "Epoch 53/100\n",
      "312/312 [==============================] - 1s 3ms/step - loss: 12.1533 - val_loss: 23.1956\n",
      "\n",
      "Epoch 00053: val_loss did not improve from 17.11736\n",
      "Epoch 54/100\n",
      "312/312 [==============================] - 1s 4ms/step - loss: 12.3804 - val_loss: 18.6541\n",
      "\n",
      "Epoch 00054: val_loss did not improve from 17.11736\n",
      "Epoch 55/100\n",
      "312/312 [==============================] - 1s 3ms/step - loss: 10.9966 - val_loss: 17.4796\n",
      "\n",
      "Epoch 00055: val_loss did not improve from 17.11736\n",
      "Epoch 56/100\n",
      "312/312 [==============================] - 1s 3ms/step - loss: 9.8339 - val_loss: 40.4927\n",
      "\n",
      "Epoch 00056: val_loss did not improve from 17.11736\n",
      "Epoch 57/100\n",
      "312/312 [==============================] - 1s 3ms/step - loss: 12.1045 - val_loss: 17.3811\n",
      "\n",
      "Epoch 00057: val_loss did not improve from 17.11736\n",
      "Epoch 58/100\n",
      "312/312 [==============================] - 1s 3ms/step - loss: 11.3114 - val_loss: 22.3334\n",
      "\n",
      "Epoch 00058: val_loss did not improve from 17.11736\n",
      "Epoch 59/100\n",
      "312/312 [==============================] - 1s 3ms/step - loss: 10.7965 - val_loss: 17.7706\n",
      "\n",
      "Epoch 00059: val_loss did not improve from 17.11736\n",
      "Epoch 60/100\n",
      "312/312 [==============================] - 1s 4ms/step - loss: 10.1164 - val_loss: 53.2453\n",
      "\n",
      "Epoch 00060: val_loss did not improve from 17.11736\n",
      "Epoch 61/100\n",
      "312/312 [==============================] - 1s 4ms/step - loss: 13.2539 - val_loss: 19.5584\n",
      "\n",
      "Epoch 00061: val_loss did not improve from 17.11736\n",
      "Epoch 62/100\n",
      "312/312 [==============================] - 1s 4ms/step - loss: 9.3782 - val_loss: 22.7278\n",
      "\n",
      "Epoch 00062: val_loss did not improve from 17.11736\n"
     ]
    }
   ],
   "source": [
    "epochs = 100\n",
    "early_stop = EarlyStopping(monitor='val_loss',patience=10)\n",
    "ckpt = ModelCheckpoint('model6.hdf5', save_best_only=True, monitor='val_loss', verbose=1)\n",
    "\n",
    "history = model.fit_generator(\n",
    "    generator,\n",
    "    steps_per_epoch=len(generator),\n",
    "    epochs=epochs,\n",
    "    validation_data=validation_generator,\n",
    "    callbacks=[early_stop, ckpt])"
   ]
  },
  {
   "cell_type": "code",
   "execution_count": 19,
   "id": "4470a4f7",
   "metadata": {},
   "outputs": [
    {
     "data": {
      "image/png": "[encoded data removed]",
      "text/plain": [
       "<Figure size 360x360 with 1 Axes>"
      ]
     },
     "metadata": {
      "needs_background": "light"
     },
     "output_type": "display_data"
    }
   ],
   "source": [
    "history_dict = history.history\n",
    "loss_values = history_dict['loss']\n",
    "val_loss_values = history_dict['val_loss']\n",
    "\n",
    "epochs_x = range(1, len(loss_values) + 1)\n",
    "plt.figure(figsize=(5,5))\n",
    "#plt.subplot(2,1,1)\n",
    "plt.plot(epochs_x, loss_values, 'bo', label='Training loss')\n",
    "plt.plot(epochs_x, val_loss_values, 'b', label='Validation loss')\n",
    "plt.title('Training and validation Loss and Accuracy')\n",
    "plt.xlabel('Epochs')\n",
    "plt.ylabel('Loss')\n",
    "#plt.legend()\n",
    "plt.xlabel('Epochs')\n",
    "plt.ylabel('Acc')\n",
    "plt.legend()\n",
    "plt.show()"
   ]
  },
  {
   "cell_type": "markdown",
   "id": "18d00b98",
   "metadata": {},
   "source": [
    "## Evaluating"
   ]
  },
  {
   "cell_type": "code",
   "execution_count": 20,
   "id": "ba519a7d",
   "metadata": {},
   "outputs": [],
   "source": [
    "# Load the best model\n",
    "model.load_weights(\"model6.hdf5\")\n",
    "\n",
    "# Predicting some days ahead.\n",
    "test_predictions = []\n",
    "first_eval_batch = train[-length:]\n",
    "current_batch = first_eval_batch.reshape((1, length, 1))\n",
    "for i in range(len(test)):\n",
    "    # get prediction 1 time stamp ahead ([0] is for grabbing just the number instead of [array])\n",
    "    current_pred = model.predict(current_batch)[0]\n",
    "    # store prediction\n",
    "    test_predictions.append(current_pred)\n",
    "    # update batch to now include prediction and drop first value\n",
    "    current_batch = np.append(current_batch[:,1:,:],[[current_pred]],axis=1)\n",
    "#prediction = scaler.inverse_transform(test_predictions)"
   ]
  },
  {
   "cell_type": "code",
   "execution_count": 21,
   "id": "e6b23123",
   "metadata": {},
   "outputs": [
    {
     "data": {
      "text/plain": [
       "[<matplotlib.lines.Line2D at 0x2a27b0c8ac0>]"
      ]
     },
     "execution_count": 21,
     "metadata": {},
     "output_type": "execute_result"
    },
    {
     "data": {
      "image/png": "[encoded data removed]",
      "text/plain": [
       "<Figure size 432x288 with 1 Axes>"
      ]
     },
     "metadata": {
      "needs_background": "light"
     },
     "output_type": "display_data"
    }
   ],
   "source": [
    "# Comparing test data and predictions\n",
    "\n",
    "plt.plot(np.arange(len(train)), train)\n",
    "plt.plot(np.arange(len(train),len(train)+len(test)),test)\n",
    "plt.plot(np.arange(len(train),len(train)+len(test)),test_predictions)"
   ]
  },
  {
   "cell_type": "code",
   "execution_count": 22,
   "id": "cd3b447b",
   "metadata": {},
   "outputs": [
    {
     "name": "stdout",
     "output_type": "stream",
     "text": [
      "mse: 58.37310506338768\n"
     ]
    }
   ],
   "source": [
    "# Calculating the mean squared error\n",
    "loss = np.mean(np.square(test[:,0] - np.array(test_predictions)[:,0]), axis=-1)\n",
    "print(\"mse: \"+str(loss))"
   ]
  },
  {
   "cell_type": "markdown",
   "id": "61a6cb34",
   "metadata": {},
   "source": [
    " "
   ]
  },
  {
   "cell_type": "markdown",
   "id": "92dc0253",
   "metadata": {},
   "source": [
    "# 3. LSTM Model"
   ]
  },
  {
   "cell_type": "code",
   "execution_count": 24,
   "id": "a7a87927",
   "metadata": {},
   "outputs": [
    {
     "name": "stdout",
     "output_type": "stream",
     "text": [
      "Model: \"sequential_2\"\n",
      "_________________________________________________________________\n",
      "Layer (type)                 Output Shape              Param #   \n",
      "=================================================================\n",
      "lstm (LSTM)                  (None, 10)                480       \n",
      "_________________________________________________________________\n",
      "dense_2 (Dense)              (None, 1)                 11        \n",
      "=================================================================\n",
      "Total params: 491\n",
      "Trainable params: 491\n",
      "Non-trainable params: 0\n",
      "_________________________________________________________________\n"
     ]
    }
   ],
   "source": [
    "model = Sequential()\n",
    "model.add(LSTM(10, activation='relu', input_shape=(length,1)))\n",
    "model.add(Dense(1))\n",
    "model.compile(optimizer='adam', loss='mse')\n",
    "model.summary()"
   ]
  },
  {
   "cell_type": "code",
   "execution_count": 25,
   "id": "22685a77",
   "metadata": {
    "scrolled": true
   },
   "outputs": [
    {
     "name": "stderr",
     "output_type": "stream",
     "text": [
      "C:\\Users\\xaris\\anaconda3\\lib\\site-packages\\tensorflow\\python\\keras\\engine\\training.py:1844: UserWarning: `Model.fit_generator` is deprecated and will be removed in a future version. Please use `Model.fit`, which supports generators.\n",
      "  warnings.warn('`Model.fit_generator` is deprecated and '\n"
     ]
    },
    {
     "name": "stdout",
     "output_type": "stream",
     "text": [
      "Epoch 1/100\n",
      "312/312 [==============================] - 4s 7ms/step - loss: 6643.5592 - val_loss: 777.6080\n",
      "\n",
      "Epoch 00001: val_loss improved from inf to 777.60797, saving model to model7.hdf5\n",
      "Epoch 2/100\n",
      "312/312 [==============================] - 2s 7ms/step - loss: 213.0072 - val_loss: 133.9670\n",
      "\n",
      "Epoch 00002: val_loss improved from 777.60797 to 133.96700, saving model to model7.hdf5\n",
      "Epoch 3/100\n",
      "312/312 [==============================] - 2s 6ms/step - loss: 64.4823 - val_loss: 138.8721\n",
      "\n",
      "Epoch 00003: val_loss did not improve from 133.96700\n",
      "Epoch 4/100\n",
      "312/312 [==============================] - 2s 6ms/step - loss: 63.8502 - val_loss: 110.0316\n",
      "\n",
      "Epoch 00004: val_loss improved from 133.96700 to 110.03156, saving model to model7.hdf5\n",
      "Epoch 5/100\n",
      "312/312 [==============================] - 2s 6ms/step - loss: 66.1432 - val_loss: 108.6681\n",
      "\n",
      "Epoch 00005: val_loss improved from 110.03156 to 108.66814, saving model to model7.hdf5\n",
      "Epoch 6/100\n",
      "312/312 [==============================] - 2s 5ms/step - loss: 101.8326 - val_loss: 109.9484\n",
      "\n",
      "Epoch 00006: val_loss did not improve from 108.66814\n",
      "Epoch 7/100\n",
      "312/312 [==============================] - 2s 5ms/step - loss: 52.7747 - val_loss: 104.6736\n",
      "\n",
      "Epoch 00007: val_loss improved from 108.66814 to 104.67364, saving model to model7.hdf5\n",
      "Epoch 8/100\n",
      "312/312 [==============================] - 2s 6ms/step - loss: 53.6434 - val_loss: 75.9203\n",
      "\n",
      "Epoch 00008: val_loss improved from 104.67364 to 75.92032, saving model to model7.hdf5\n",
      "Epoch 9/100\n",
      "312/312 [==============================] - 2s 7ms/step - loss: 44.4074 - val_loss: 104.0085\n",
      "\n",
      "Epoch 00009: val_loss did not improve from 75.92032\n",
      "Epoch 10/100\n",
      "312/312 [==============================] - 2s 7ms/step - loss: 42.3441 - val_loss: 109.1255\n",
      "\n",
      "Epoch 00010: val_loss did not improve from 75.92032\n",
      "Epoch 11/100\n",
      "312/312 [==============================] - 2s 6ms/step - loss: 67.9707 - val_loss: 109.7608\n",
      "\n",
      "Epoch 00011: val_loss did not improve from 75.92032\n",
      "Epoch 12/100\n",
      "312/312 [==============================] - 2s 5ms/step - loss: 76.0188 - val_loss: 70.4488\n",
      "\n",
      "Epoch 00012: val_loss improved from 75.92032 to 70.44884, saving model to model7.hdf5\n",
      "Epoch 13/100\n",
      "312/312 [==============================] - 2s 6ms/step - loss: 33.6258 - val_loss: 67.3853\n",
      "\n",
      "Epoch 00013: val_loss improved from 70.44884 to 67.38531, saving model to model7.hdf5\n",
      "Epoch 14/100\n",
      "312/312 [==============================] - 2s 5ms/step - loss: 33.2613 - val_loss: 75.8238\n",
      "\n",
      "Epoch 00014: val_loss did not improve from 67.38531\n",
      "Epoch 15/100\n",
      "312/312 [==============================] - 2s 6ms/step - loss: 32.8671 - val_loss: 61.3842\n",
      "\n",
      "Epoch 00015: val_loss improved from 67.38531 to 61.38418, saving model to model7.hdf5\n",
      "Epoch 16/100\n",
      "312/312 [==============================] - 2s 6ms/step - loss: 29.4527 - val_loss: 62.8948\n",
      "\n",
      "Epoch 00016: val_loss did not improve from 61.38418\n",
      "Epoch 17/100\n",
      "312/312 [==============================] - 2s 5ms/step - loss: 30.7907 - val_loss: 97.5270\n",
      "\n",
      "Epoch 00017: val_loss did not improve from 61.38418\n",
      "Epoch 18/100\n",
      "312/312 [==============================] - 1s 5ms/step - loss: 35.4208 - val_loss: 140.1337\n",
      "\n",
      "Epoch 00018: val_loss did not improve from 61.38418\n",
      "Epoch 19/100\n",
      "312/312 [==============================] - 2s 5ms/step - loss: 191.7900 - val_loss: 91.1798\n",
      "\n",
      "Epoch 00019: val_loss did not improve from 61.38418\n",
      "Epoch 20/100\n",
      "312/312 [==============================] - 1s 5ms/step - loss: 46.8982 - val_loss: 130.2604\n",
      "\n",
      "Epoch 00020: val_loss did not improve from 61.38418\n",
      "Epoch 21/100\n",
      "312/312 [==============================] - 1s 5ms/step - loss: 44.1301 - val_loss: 77.4308\n",
      "\n",
      "Epoch 00021: val_loss did not improve from 61.38418\n",
      "Epoch 22/100\n",
      "312/312 [==============================] - 2s 5ms/step - loss: 47.8995 - val_loss: 66.5216\n",
      "\n",
      "Epoch 00022: val_loss did not improve from 61.38418\n",
      "Epoch 23/100\n",
      "312/312 [==============================] - 2s 5ms/step - loss: 33.4505 - val_loss: 62.8160\n",
      "\n",
      "Epoch 00023: val_loss did not improve from 61.38418\n",
      "Epoch 24/100\n",
      "312/312 [==============================] - 2s 6ms/step - loss: 41.3885 - val_loss: 63.5312\n",
      "\n",
      "Epoch 00024: val_loss did not improve from 61.38418\n",
      "Epoch 25/100\n",
      "312/312 [==============================] - 2s 5ms/step - loss: 37.2488 - val_loss: 65.7240\n",
      "\n",
      "Epoch 00025: val_loss did not improve from 61.38418\n"
     ]
    }
   ],
   "source": [
    "epochs = 100\n",
    "early_stop = EarlyStopping(monitor='val_loss',patience=10)\n",
    "ckpt = ModelCheckpoint('model7.hdf5', save_best_only=True, monitor='val_loss', verbose=1)\n",
    "\n",
    "history = model.fit_generator(\n",
    "    generator,\n",
    "    steps_per_epoch=len(generator),\n",
    "    epochs=epochs,\n",
    "    validation_data=validation_generator,\n",
    "    callbacks=[early_stop, ckpt])"
   ]
  },
  {
   "cell_type": "code",
   "execution_count": 26,
   "id": "19e41707",
   "metadata": {},
   "outputs": [
    {
     "data": {
      "image/png": "[encoded data removed]",
      "text/plain": [
       "<Figure size 360x360 with 1 Axes>"
      ]
     },
     "metadata": {
      "needs_background": "light"
     },
     "output_type": "display_data"
    }
   ],
   "source": [
    "history_dict = history.history\n",
    "loss_values = history_dict['loss']\n",
    "val_loss_values = history_dict['val_loss']\n",
    "\n",
    "epochs_x = range(1, len(loss_values) + 1)\n",
    "plt.figure(figsize=(5,5))\n",
    "#plt.subplot(2,1,1)\n",
    "plt.plot(epochs_x, loss_values, 'bo', label='Training loss')\n",
    "plt.plot(epochs_x, val_loss_values, 'b', label='Validation loss')\n",
    "plt.title('Training and validation Loss and Accuracy')\n",
    "plt.xlabel('Epochs')\n",
    "plt.ylabel('Loss')\n",
    "#plt.legend()\n",
    "plt.xlabel('Epochs')\n",
    "plt.ylabel('Acc')\n",
    "plt.legend()\n",
    "plt.show()"
   ]
  },
  {
   "cell_type": "markdown",
   "id": "ca22d36b",
   "metadata": {},
   "source": [
    "## Evaluating"
   ]
  },
  {
   "cell_type": "code",
   "execution_count": 27,
   "id": "6efd178b",
   "metadata": {},
   "outputs": [],
   "source": [
    "# Load the best model\n",
    "model.load_weights(\"model7.hdf5\")\n",
    "\n",
    "# Predicting some days ahead.\n",
    "test_predictions = []\n",
    "first_eval_batch = train[-length:]\n",
    "current_batch = first_eval_batch.reshape((1, length, 1))\n",
    "for i in range(len(test)):\n",
    "    # get prediction 1 time stamp ahead ([0] is for grabbing just the number instead of [array])\n",
    "    current_pred = model.predict(current_batch)[0]\n",
    "    # store prediction\n",
    "    test_predictions.append(current_pred)\n",
    "    # update batch to now include prediction and drop first value\n",
    "    current_batch = np.append(current_batch[:,1:,:],[[current_pred]],axis=1)\n",
    "#prediction = scaler.inverse_transform(test_predictions)"
   ]
  },
  {
   "cell_type": "code",
   "execution_count": 28,
   "id": "2cce243d",
   "metadata": {},
   "outputs": [
    {
     "data": {
      "text/plain": [
       "[<matplotlib.lines.Line2D at 0x2a27ade8940>]"
      ]
     },
     "execution_count": 28,
     "metadata": {},
     "output_type": "execute_result"
    },
    {
     "data": {
      "image/png": "[encoded data removed]",
      "text/plain": [
       "<Figure size 432x288 with 1 Axes>"
      ]
     },
     "metadata": {
      "needs_background": "light"
     },
     "output_type": "display_data"
    }
   ],
   "source": [
    "# Comparing test data and predictions\n",
    "\n",
    "plt.plot(np.arange(len(train)), train)\n",
    "plt.plot(np.arange(len(train),len(train)+len(test)),test)\n",
    "plt.plot(np.arange(len(train),len(train)+len(test)),test_predictions)"
   ]
  },
  {
   "cell_type": "code",
   "execution_count": 29,
   "id": "2fa9f6d4",
   "metadata": {},
   "outputs": [
    {
     "name": "stdout",
     "output_type": "stream",
     "text": [
      "mse: 185.61999714770127\n"
     ]
    }
   ],
   "source": [
    "# Calculating the mean squared error\n",
    "loss2 = np.mean(np.square(test[:,0] - np.array(test_predictions)[:,0]), axis=-1)\n",
    "print(\"mse: \"+str(loss2))"
   ]
  },
  {
   "cell_type": "markdown",
   "id": "822cd119",
   "metadata": {},
   "source": [
    " "
   ]
  },
  {
   "cell_type": "markdown",
   "id": "e58107fb",
   "metadata": {},
   "source": [
    "# 4. GRU Model"
   ]
  },
  {
   "cell_type": "code",
   "execution_count": 34,
   "id": "47a6b48b",
   "metadata": {},
   "outputs": [
    {
     "name": "stdout",
     "output_type": "stream",
     "text": [
      "Model: \"sequential_6\"\n",
      "_________________________________________________________________\n",
      "Layer (type)                 Output Shape              Param #   \n",
      "=================================================================\n",
      "gru_6 (GRU)                  (None, 12, 20)            1380      \n",
      "_________________________________________________________________\n",
      "gru_7 (GRU)                  (None, 10)                960       \n",
      "_________________________________________________________________\n",
      "dense_5 (Dense)              (None, 1)                 11        \n",
      "=================================================================\n",
      "Total params: 2,351\n",
      "Trainable params: 2,351\n",
      "Non-trainable params: 0\n",
      "_________________________________________________________________\n"
     ]
    }
   ],
   "source": [
    "model = Sequential()\n",
    "model.add(GRU(20, activation='relu', return_sequences=True, input_shape=(length,1)))\n",
    "model.add(GRU(10, activation='relu'))\n",
    "model.add(Dense(1))\n",
    "model.compile(optimizer='adam', loss='mse')\n",
    "model.summary()"
   ]
  },
  {
   "cell_type": "code",
   "execution_count": 35,
   "id": "7c314889",
   "metadata": {
    "scrolled": true
   },
   "outputs": [
    {
     "name": "stderr",
     "output_type": "stream",
     "text": [
      "C:\\Users\\xaris\\anaconda3\\lib\\site-packages\\tensorflow\\python\\keras\\engine\\training.py:1844: UserWarning: `Model.fit_generator` is deprecated and will be removed in a future version. Please use `Model.fit`, which supports generators.\n",
      "  warnings.warn('`Model.fit_generator` is deprecated and '\n"
     ]
    },
    {
     "name": "stdout",
     "output_type": "stream",
     "text": [
      "Epoch 1/100\n",
      "312/312 [==============================] - 10s 15ms/step - loss: 2717.8413 - val_loss: 96.2701\n",
      "\n",
      "Epoch 00001: val_loss improved from inf to 96.27014, saving model to model8.hdf5\n",
      "Epoch 2/100\n",
      "312/312 [==============================] - 3s 11ms/step - loss: 57.9437 - val_loss: 96.5310\n",
      "\n",
      "Epoch 00002: val_loss did not improve from 96.27014\n",
      "Epoch 3/100\n",
      "312/312 [==============================] - 3s 10ms/step - loss: 56.4849 - val_loss: 73.2701\n",
      "\n",
      "Epoch 00003: val_loss improved from 96.27014 to 73.27009, saving model to model8.hdf5\n",
      "Epoch 4/100\n",
      "312/312 [==============================] - 3s 11ms/step - loss: 42.5218 - val_loss: 65.9658\n",
      "\n",
      "Epoch 00004: val_loss improved from 73.27009 to 65.96582, saving model to model8.hdf5\n",
      "Epoch 5/100\n",
      "312/312 [==============================] - 4s 12ms/step - loss: 40.0809 - val_loss: 42.5997\n",
      "\n",
      "Epoch 00005: val_loss improved from 65.96582 to 42.59972, saving model to model8.hdf5\n",
      "Epoch 6/100\n",
      "312/312 [==============================] - 3s 11ms/step - loss: 25.7720 - val_loss: 47.5433\n",
      "\n",
      "Epoch 00006: val_loss did not improve from 42.59972\n",
      "Epoch 7/100\n",
      "312/312 [==============================] - 3s 10ms/step - loss: 20.8942 - val_loss: 28.3777\n",
      "\n",
      "Epoch 00007: val_loss improved from 42.59972 to 28.37774, saving model to model8.hdf5\n",
      "Epoch 8/100\n",
      "312/312 [==============================] - 3s 10ms/step - loss: 15.4224 - val_loss: 20.3998\n",
      "\n",
      "Epoch 00008: val_loss improved from 28.37774 to 20.39983, saving model to model8.hdf5\n",
      "Epoch 9/100\n",
      "312/312 [==============================] - 3s 10ms/step - loss: 10.4041 - val_loss: 17.8617\n",
      "\n",
      "Epoch 00009: val_loss improved from 20.39983 to 17.86174, saving model to model8.hdf5\n",
      "Epoch 10/100\n",
      "312/312 [==============================] - 3s 11ms/step - loss: 11.7091 - val_loss: 18.6083\n",
      "\n",
      "Epoch 00010: val_loss did not improve from 17.86174\n",
      "Epoch 11/100\n",
      "312/312 [==============================] - 3s 10ms/step - loss: 9.4530 - val_loss: 17.5618\n",
      "\n",
      "Epoch 00011: val_loss improved from 17.86174 to 17.56177, saving model to model8.hdf5\n",
      "Epoch 12/100\n",
      "312/312 [==============================] - 3s 11ms/step - loss: 10.0994 - val_loss: 17.6238\n",
      "\n",
      "Epoch 00012: val_loss did not improve from 17.56177\n",
      "Epoch 13/100\n",
      "312/312 [==============================] - 3s 11ms/step - loss: 8.4729 - val_loss: 17.7402\n",
      "\n",
      "Epoch 00013: val_loss did not improve from 17.56177\n",
      "Epoch 14/100\n",
      "312/312 [==============================] - 3s 10ms/step - loss: 8.3130 - val_loss: 17.6458\n",
      "\n",
      "Epoch 00014: val_loss did not improve from 17.56177\n",
      "Epoch 15/100\n",
      "312/312 [==============================] - 3s 9ms/step - loss: 8.3872 - val_loss: 21.9297\n",
      "\n",
      "Epoch 00015: val_loss did not improve from 17.56177\n",
      "Epoch 16/100\n",
      "312/312 [==============================] - 3s 11ms/step - loss: 10.5712 - val_loss: 19.3881\n",
      "\n",
      "Epoch 00016: val_loss did not improve from 17.56177\n",
      "Epoch 17/100\n",
      "312/312 [==============================] - 3s 10ms/step - loss: 11.0527 - val_loss: 27.6206\n",
      "\n",
      "Epoch 00017: val_loss did not improve from 17.56177\n",
      "Epoch 18/100\n",
      "312/312 [==============================] - 3s 11ms/step - loss: 9.2933 - val_loss: 16.9001\n",
      "\n",
      "Epoch 00018: val_loss improved from 17.56177 to 16.90007, saving model to model8.hdf5\n",
      "Epoch 19/100\n",
      "312/312 [==============================] - 4s 12ms/step - loss: 10.0949 - val_loss: 18.8204\n",
      "\n",
      "Epoch 00019: val_loss did not improve from 16.90007\n",
      "Epoch 20/100\n",
      "312/312 [==============================] - 3s 9ms/step - loss: 8.9623 - val_loss: 21.5765\n",
      "\n",
      "Epoch 00020: val_loss did not improve from 16.90007\n",
      "Epoch 21/100\n",
      "312/312 [==============================] - 3s 10ms/step - loss: 8.0026 - val_loss: 17.4188\n",
      "\n",
      "Epoch 00021: val_loss did not improve from 16.90007\n",
      "Epoch 22/100\n",
      "312/312 [==============================] - 3s 10ms/step - loss: 9.8984 - val_loss: 16.5443\n",
      "\n",
      "Epoch 00022: val_loss improved from 16.90007 to 16.54427, saving model to model8.hdf5\n",
      "Epoch 23/100\n",
      "312/312 [==============================] - 3s 11ms/step - loss: 7.3505 - val_loss: 19.7412\n",
      "\n",
      "Epoch 00023: val_loss did not improve from 16.54427\n",
      "Epoch 24/100\n",
      "312/312 [==============================] - 4s 13ms/step - loss: 9.6883 - val_loss: 29.5340\n",
      "\n",
      "Epoch 00024: val_loss did not improve from 16.54427\n",
      "Epoch 25/100\n",
      "312/312 [==============================] - 4s 12ms/step - loss: 8.9534 - val_loss: 20.8213\n",
      "\n",
      "Epoch 00025: val_loss did not improve from 16.54427\n",
      "Epoch 26/100\n",
      "312/312 [==============================] - 4s 13ms/step - loss: 9.9183 - val_loss: 20.9408\n",
      "\n",
      "Epoch 00026: val_loss did not improve from 16.54427\n",
      "Epoch 27/100\n",
      "312/312 [==============================] - 4s 11ms/step - loss: 8.1633 - val_loss: 17.9902\n",
      "\n",
      "Epoch 00027: val_loss did not improve from 16.54427\n",
      "Epoch 28/100\n",
      "312/312 [==============================] - 3s 11ms/step - loss: 7.6730 - val_loss: 16.9073\n",
      "\n",
      "Epoch 00028: val_loss did not improve from 16.54427\n",
      "Epoch 29/100\n",
      "312/312 [==============================] - 3s 8ms/step - loss: 8.2784 - val_loss: 17.0348\n",
      "\n",
      "Epoch 00029: val_loss did not improve from 16.54427\n",
      "Epoch 30/100\n",
      "312/312 [==============================] - 3s 9ms/step - loss: 7.9129 - val_loss: 16.6829\n",
      "\n",
      "Epoch 00030: val_loss did not improve from 16.54427\n",
      "Epoch 31/100\n",
      "312/312 [==============================] - 3s 10ms/step - loss: 8.7611 - val_loss: 16.9539\n",
      "\n",
      "Epoch 00031: val_loss did not improve from 16.54427\n",
      "Epoch 32/100\n",
      "312/312 [==============================] - 3s 10ms/step - loss: 8.9180 - val_loss: 17.9496\n",
      "\n",
      "Epoch 00032: val_loss did not improve from 16.54427\n"
     ]
    }
   ],
   "source": [
    "epochs = 100\n",
    "early_stop = EarlyStopping(monitor='val_loss',patience=10)\n",
    "ckpt = ModelCheckpoint('model8.hdf5', save_best_only=True, monitor='val_loss', verbose=1)\n",
    "\n",
    "history = model.fit_generator(\n",
    "    generator,\n",
    "    steps_per_epoch=len(generator),\n",
    "    epochs=epochs,\n",
    "    validation_data=validation_generator,\n",
    "    callbacks=[early_stop, ckpt])"
   ]
  },
  {
   "cell_type": "code",
   "execution_count": 36,
   "id": "36e1fb97",
   "metadata": {},
   "outputs": [
    {
     "data": {
      "image/png": "[encoded data removed]",
      "text/plain": [
       "<Figure size 360x360 with 1 Axes>"
      ]
     },
     "metadata": {
      "needs_background": "light"
     },
     "output_type": "display_data"
    }
   ],
   "source": [
    "history_dict = history.history\n",
    "loss_values = history_dict['loss']\n",
    "val_loss_values = history_dict['val_loss']\n",
    "\n",
    "epochs_x = range(1, len(loss_values) + 1)\n",
    "plt.figure(figsize=(5,5))\n",
    "#plt.subplot(2,1,1)\n",
    "plt.plot(epochs_x, loss_values, 'bo', label='Training loss')\n",
    "plt.plot(epochs_x, val_loss_values, 'b', label='Validation loss')\n",
    "plt.title('Training and validation Loss and Accuracy')\n",
    "plt.xlabel('Epochs')\n",
    "plt.ylabel('Loss')\n",
    "#plt.legend()\n",
    "plt.xlabel('Epochs')\n",
    "plt.ylabel('Acc')\n",
    "plt.legend()\n",
    "plt.show()"
   ]
  },
  {
   "cell_type": "markdown",
   "id": "6e2691f5",
   "metadata": {},
   "source": [
    "## Evaluating"
   ]
  },
  {
   "cell_type": "code",
   "execution_count": 37,
   "id": "2f125654",
   "metadata": {},
   "outputs": [],
   "source": [
    "# Load the best model\n",
    "model.load_weights(\"model8.hdf5\")\n",
    "\n",
    "# Predicting some days ahead.\n",
    "test_predictions = []\n",
    "first_eval_batch = train[-length:]\n",
    "current_batch = first_eval_batch.reshape((1, length, 1))\n",
    "for i in range(len(test)):\n",
    "    # get prediction 1 time stamp ahead ([0] is for grabbing just the number instead of [array])\n",
    "    current_pred = model.predict(current_batch)[0]\n",
    "    # store prediction\n",
    "    test_predictions.append(current_pred)\n",
    "    # update batch to now include prediction and drop first value\n",
    "    current_batch = np.append(current_batch[:,1:,:],[[current_pred]],axis=1)\n",
    "#prediction = scaler.inverse_transform(test_predictions)"
   ]
  },
  {
   "cell_type": "code",
   "execution_count": 38,
   "id": "0a03bc1a",
   "metadata": {},
   "outputs": [
    {
     "data": {
      "text/plain": [
       "[<matplotlib.lines.Line2D at 0x2a27f8965b0>]"
      ]
     },
     "execution_count": 38,
     "metadata": {},
     "output_type": "execute_result"
    },
    {
     "data": {
      "image/png": "[encoded data removed]",
      "text/plain": [
       "<Figure size 432x288 with 1 Axes>"
      ]
     },
     "metadata": {
      "needs_background": "light"
     },
     "output_type": "display_data"
    }
   ],
   "source": [
    "# Comparing test data and predictions\n",
    "\n",
    "plt.plot(np.arange(len(train)), train)\n",
    "plt.plot(np.arange(len(train),len(train)+len(test)),test)\n",
    "plt.plot(np.arange(len(train),len(train)+len(test)),test_predictions)"
   ]
  },
  {
   "cell_type": "code",
   "execution_count": 39,
   "id": "476baa86",
   "metadata": {},
   "outputs": [
    {
     "name": "stdout",
     "output_type": "stream",
     "text": [
      "mse: 38.06705408946133\n"
     ]
    }
   ],
   "source": [
    "# Calculating the mean squared error\n",
    "loss3 = np.mean(np.square(test[:,0] - np.array(test_predictions)[:,0]), axis=-1)\n",
    "print(\"mse: \"+str(loss3))"
   ]
  },
  {
   "cell_type": "markdown",
   "id": "60524578",
   "metadata": {},
   "source": [
    "# 5. Summary"
   ]
  },
  {
   "cell_type": "code",
   "execution_count": 42,
   "id": "dea6c218",
   "metadata": {},
   "outputs": [
    {
     "data": {
      "text/html": [
       "<div>\n",
       "<style scoped>\n",
       "    .dataframe tbody tr th:only-of-type {\n",
       "        vertical-align: middle;\n",
       "    }\n",
       "\n",
       "    .dataframe tbody tr th {\n",
       "        vertical-align: top;\n",
       "    }\n",
       "\n",
       "    .dataframe thead th {\n",
       "        text-align: right;\n",
       "    }\n",
       "</style>\n",
       "<table border=\"1\" class=\"dataframe\">\n",
       "  <thead>\n",
       "    <tr style=\"text-align: right;\">\n",
       "      <th></th>\n",
       "      <th>Method</th>\n",
       "      <th>Mean Squared Error</th>\n",
       "    </tr>\n",
       "  </thead>\n",
       "  <tbody>\n",
       "    <tr>\n",
       "      <th>0</th>\n",
       "      <td>RNN</td>\n",
       "      <td>58.37310506338768</td>\n",
       "    </tr>\n",
       "    <tr>\n",
       "      <th>1</th>\n",
       "      <td>LSTM</td>\n",
       "      <td>185.61999714770127</td>\n",
       "    </tr>\n",
       "    <tr>\n",
       "      <th>2</th>\n",
       "      <td>GRU</td>\n",
       "      <td>38.06705408946133</td>\n",
       "    </tr>\n",
       "  </tbody>\n",
       "</table>\n",
       "</div>"
      ],
      "text/plain": [
       "  Method  Mean Squared Error\n",
       "0    RNN   58.37310506338768\n",
       "1   LSTM  185.61999714770127\n",
       "2    GRU   38.06705408946133"
      ]
     },
     "execution_count": 42,
     "metadata": {},
     "output_type": "execute_result"
    }
   ],
   "source": [
    "Summary = {'Method':['RNN','LSTM','GRU'],\n",
    "              'Mean Squared Error':[str(loss),str(loss2),str(loss3)]}\n",
    "\n",
    "pd.DataFrame(Summary)"
   ]
  },
  {
   "cell_type": "code",
   "execution_count": null,
   "id": "c2593017",
   "metadata": {},
   "outputs": [],
   "source": []
  }
 ],
 "metadata": {
  "kernelspec": {
   "display_name": "Python 3",
   "language": "python",
   "name": "python3"
  },
  "language_info": {
   "codemirror_mode": {
    "name": "ipython",
    "version": 3
   },
   "file_extension": ".py",
   "mimetype": "text/x-python",
   "name": "python",
   "nbconvert_exporter": "python",
   "pygments_lexer": "ipython3",
   "version": "3.7.10"
  }
 },
 "nbformat": 4,
 "nbformat_minor": 5
}
